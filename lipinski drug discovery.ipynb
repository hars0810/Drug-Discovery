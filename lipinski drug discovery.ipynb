{
 "cells": [
  {
   "cell_type": "code",
   "execution_count": null,
   "id": "0f604139",
   "metadata": {},
   "outputs": [],
   "source": [
    "import numpy as np # linear algebra\n",
    "import pandas as pd # data processing, CSV file I/O (e.g. pd.read_csv)\n",
    "\n",
    "import os\n",
    "for dirname, _, filenames in os.walk('/kaggle/input'):\n",
    "    for filename in filenames:\n",
    "        print(os.path.join(dirname, filename))\n",
    "        \n",
    "import matplotlib.pyplot as plt\n",
    "import seaborn as sns\n",
    "%matplotlib inline\n",
    "\n",
    "import warnings\n",
    "warnings.filterwarnings(\"ignore\")"
   ]
  },
  {
   "cell_type": "code",
   "execution_count": null,
   "id": "fc493f46",
   "metadata": {},
   "outputs": [
    {
     "name": "stdout",
     "output_type": "stream",
     "text": [
      "C:\\Users\\admin\\AppData\\Local\\Microsoft\\WindowsApps\\PythonSoftwareFoundation.Python.3.11_qbz5n2kfra8p0\\python.exe\n"
     ]
    }
   ],
   "source": [
    "!pip install rdkit-pypi\n",
    "from rdkit import Chem\n",
    "from rdkit.Chem import Descriptors\n",
    "from rdkit.Chem import AllChem\n",
    "from rdkit import DataStructs\n",
    "from rdkit.Chem import Draw\n",
    "from rdkit.Chem.Draw import IPythonConsole\n",
    "IPythonConsole.ipython_useSVG=True"
   ]
  },
  {
   "cell_type": "code",
   "execution_count": null,
   "id": "45e70b73",
   "metadata": {},
   "outputs": [],
   "source": [
    "logP_data = pd.read_csv('/kaggle/input/chemical-structure-and-logp/logP_dataset.csv', \n",
    "                        names=['smiles', 'logP'])\n",
    "\n",
    "print(logP_data.shape)\n",
    "logP_data.head()"
   ]
  },
  {
   "cell_type": "code",
   "execution_count": null,
   "id": "1fdbef72",
   "metadata": {},
   "outputs": [],
   "source": [
    "# distribution of logP, target value\n",
    "logP_data.logP.hist(bins=50)"
   ]
  },
  {
   "cell_type": "code",
   "execution_count": null,
   "id": "8eabb9b4",
   "metadata": {},
   "outputs": [],
   "source": [
    "# generate mol object from smiles\n",
    "\n",
    "df = logP_data.copy()\n",
    "\n",
    "df['mol'] = df['smiles'].apply(lambda x: Chem.MolFromSmiles(x))\n",
    "df.head(2)"
   ]
  },
  {
   "cell_type": "code",
   "execution_count": null,
   "id": "05c85029",
   "metadata": {},
   "outputs": [],
   "source": [
    "# first 15 mol's images\n",
    "mols = df['mol'][:15]\n",
    "Draw.MolsToGridImage(mols, molsPerRow=5, useSVG=True, legends=list(df['smiles'][:15].values))"
   ]
  },
  {
   "cell_type": "code",
   "execution_count": null,
   "id": "cece26bb",
   "metadata": {},
   "outputs": [],
   "source": [
    "df['mol'] = df['mol'].apply(lambda x: Chem.AddHs(x)) # add H atom\n",
    "df['num_of_atoms'] = df['mol'].apply(lambda x: x.GetNumAtoms()) # atom's number in mol\n",
    "df['num_of_heavy_atoms'] = df['mol'].apply(lambda x: x.GetNumHeavyAtoms()) # exclude H atom\n",
    "df.head(2)"
   ]
  },
  {
   "cell_type": "code",
   "execution_count": null,
   "id": "c723ba97",
   "metadata": {},
   "outputs": [],
   "source": [
    "# Re-drawing\n",
    "\n",
    "Draw.MolsToGridImage((df.mol[0], df.mol[1], df.mol[2]), subImgSize=(200,200))"
   ]
  },
  {
   "cell_type": "code",
   "execution_count": null,
   "id": "e1d1b30b",
   "metadata": {},
   "outputs": [],
   "source": [
    "# indicated atom's number in mol\n",
    "\n",
    "def number_of_atoms(atom_list, df):\n",
    "    for i in atom_list:\n",
    "        df['num_of_{}_atoms'.format(i)] = df['mol'].apply(lambda x: len(x.GetSubstructMatches(Chem.MolFromSmiles(i))))\n",
    "\n",
    "number_of_atoms(['C','O', 'N', 'Cl', 'S', 'P'], df)\n",
    "\n",
    "df.head(20)"
   ]
  },
  {
   "cell_type": "code",
   "execution_count": null,
   "id": "30ff6e73",
   "metadata": {},
   "outputs": [],
   "source": [
    "# Linear Regression model -1\n",
    "\n",
    "# feature and target\n",
    "\n",
    "from sklearn.model_selection import train_test_split\n",
    "\n",
    "feature = df.drop(columns=['smiles', 'mol', 'logP'])\n",
    "target = df['logP'].values\n",
    "\n",
    "X_train, X_test, y_train, y_test = train_test_split(feature, target, test_size=.2)\n",
    "X_train.shape, X_test.shape, y_train.shape, y_test.shape"
   ]
  },
  {
   "cell_type": "code",
   "execution_count": null,
   "id": "4ae5abfe",
   "metadata": {},
   "outputs": [],
   "source": [
    "def show_reg_result(y_test, y_pred, N=75):\n",
    "    mae = mean_absolute_error(y_test, y_pred)\n",
    "    rmse = mean_squared_error(y_test, y_pred, squared=False)\n",
    "    R2 = r2_score(y_test, y_pred)\n",
    "    max_err = np.abs(y_test - y_pred).max()\n",
    "\n",
    "    print('R2:', round(R2, 4))\n",
    "    print('MAE:', round(mae, 4))\n",
    "    print('RMSE:', round(rmse,4))\n",
    "    print('Max error:', round(max_err, 4))\n",
    "\n",
    "    # ploting with real and pred values\n",
    "\n",
    "    if N > 0: \n",
    "        plt.figure(figsize=(12, 4)) \n",
    "        plt.plot(y_pred[:N], \".b-\", label=\"prediction\", linewidth=1.0) \n",
    "        plt.plot(y_test[:N], '.r-', label=\"actual\", linewidth=1.0) \n",
    "        plt.legend() \n",
    "        plt.ylabel('logP') \n",
    "        plt.show()"
   ]
  },
  {
   "cell_type": "code",
   "execution_count": null,
   "id": "41556da5",
   "metadata": {},
   "outputs": [],
   "source": [
    "# Linear Regression Model-1\n",
    "\n",
    "from sklearn.linear_model import LinearRegression\n",
    "from sklearn.metrics import mean_absolute_error, r2_score, mean_squared_error\n",
    "\n",
    "lr = LinearRegression()\n",
    "lr.fit(X_train, y_train)\n",
    "y_pred = lr.predict(X_test)\n",
    "show_reg_result(y_test, y_pred)"
   ]
  },
  {
   "cell_type": "code",
   "execution_count": null,
   "id": "8ef06f81",
   "metadata": {},
   "outputs": [],
   "source": [
    "df['tpsa'] = df['mol'].apply(lambda x: Descriptors.TPSA(x))\n",
    "df['mol_w'] = df['mol'].apply(lambda x: Descriptors.ExactMolWt(x))\n",
    "df['num_valence_electrons'] = df['mol'].apply(lambda x: Descriptors.NumValenceElectrons(x))\n",
    "df['num_heteroatoms'] = df['mol'].apply(lambda x: Descriptors.NumHeteroatoms(x))\n",
    "df.head()"
   ]
  },
  {
   "cell_type": "code",
   "execution_count": null,
   "id": "7924acda",
   "metadata": {},
   "outputs": [],
   "source": [
    "feature = df.drop(columns=['smiles', 'mol', 'logP'])\n",
    "target = df['logP'].values\n",
    "\n",
    "X_train, X_test, y_train, y_test = train_test_split(feature, target, test_size=.2, random_state=2310)\n",
    "X_train.shape, X_test.shape, y_train.shape, y_test.shape"
   ]
  },
  {
   "cell_type": "code",
   "execution_count": null,
   "id": "0e48112f",
   "metadata": {},
   "outputs": [],
   "source": [
    "lr = LinearRegression()\n",
    "lr.fit(X_train, y_train)\n",
    "y_pred = lr.predict(X_test)\n",
    "show_reg_result(y_test, y_pred,75)"
   ]
  },
  {
   "cell_type": "code",
   "execution_count": null,
   "id": "58c47b18",
   "metadata": {},
   "outputs": [],
   "source": [
    "X_train.columns"
   ]
  },
  {
   "cell_type": "code",
   "execution_count": null,
   "id": "3c737648",
   "metadata": {},
   "outputs": [],
   "source": [
    "y_train"
   ]
  },
  {
   "cell_type": "code",
   "execution_count": null,
   "id": "134576c2",
   "metadata": {},
   "outputs": [],
   "source": [
    "lr.coef_"
   ]
  },
  {
   "cell_type": "code",
   "execution_count": null,
   "id": "746ee2f7",
   "metadata": {},
   "outputs": [],
   "source": [
    "lr.intercept_ "
   ]
  },
  {
   "cell_type": "code",
   "execution_count": null,
   "id": "8c13e103",
   "metadata": {},
   "outputs": [],
   "source": [
    "# feature importances\n",
    "\n",
    "def plot_feature_weight(feature, weight):\n",
    "    plt.figure(figsize=(5,3)) \n",
    "    W = pd.DataFrame({'feature':feature,'weight':weight})\n",
    "    W.sort_values('weight', inplace=True)\n",
    "    plt.barh(W.feature, W.weight)\n",
    "    \n",
    "plot_feature_weight(feature.columns, lr.coef_)"
   ]
  },
  {
   "cell_type": "code",
   "execution_count": null,
   "id": "5b083758",
   "metadata": {},
   "outputs": [],
   "source": [
    "# to find max_depth\n",
    "# Decision tree regression model\n",
    "from sklearn.tree import DecisionTreeClassifier, DecisionTreeRegressor\n",
    "\n",
    "res = []\n",
    "for depth in range(1,50,2):\n",
    "    dtr = DecisionTreeRegressor(max_depth=depth)\n",
    "    dtr.fit(X_train, y_train)\n",
    "    res.append((depth, dtr.score(X_test, y_test).round(4)))\n",
    "res[:5]"
   ]
  },
  {
   "cell_type": "code",
   "execution_count": null,
   "id": "7a49dc65",
   "metadata": {},
   "outputs": [],
   "source": [
    "df_res = pd.DataFrame(res, columns=['depth', 'score']).set_index('depth')\n",
    "df_res[:5]"
   ]
  },
  {
   "cell_type": "code",
   "execution_count": null,
   "id": "3993d643",
   "metadata": {},
   "outputs": [],
   "source": [
    "df_res.plot()"
   ]
  },
  {
   "cell_type": "code",
   "execution_count": null,
   "id": "6814a959",
   "metadata": {},
   "outputs": [],
   "source": [
    "df_res.idxmax(), df_res.max()"
   ]
  },
  {
   "cell_type": "code",
   "execution_count": null,
   "id": "89b96bc3",
   "metadata": {},
   "outputs": [],
   "source": [
    "# ploting with real and pred values\n",
    "\n",
    "dtr = DecisionTreeRegressor(max_depth=21)\n",
    "dtr.fit(X_train, y_train)\n",
    "y_pred = dtr.predict(X_test)\n",
    "show_reg_result(y_test, y_pred)"
   ]
  },
  {
   "cell_type": "code",
   "execution_count": null,
   "id": "c8ec7b9a",
   "metadata": {},
   "outputs": [],
   "source": [
    "# feature importances\n",
    "\n",
    "plot_feature_weight(feature.columns, dtr.feature_importances_)"
   ]
  },
  {
   "cell_type": "code",
   "execution_count": null,
   "id": "0f6b9def",
   "metadata": {},
   "outputs": [],
   "source": [
    "# Random forest\n",
    "from sklearn.ensemble import RandomForestRegressor\n",
    "\n",
    "rfr = RandomForestRegressor()\n",
    "rfr.fit(X_train, y_train)\n",
    "y_pred = rfr.predict(X_test)\n",
    "show_reg_result(y_test, y_pred)"
   ]
  },
  {
   "cell_type": "code",
   "execution_count": null,
   "id": "aaa69a6e",
   "metadata": {},
   "outputs": [],
   "source": [
    "# feature importance\n",
    "\n",
    "plot_feature_weight(feature.columns, rfr.feature_importances_)"
   ]
  },
  {
   "cell_type": "code",
   "execution_count": null,
   "id": "293bca85",
   "metadata": {},
   "outputs": [],
   "source": [
    "from sklearn import tree\n",
    "import matplotlib\n",
    "plt.figure(figsize=(26,12))\n",
    "\n",
    "tree.plot_tree(dtr, fontsize=14,\n",
    "              feature_names=feature.columns,\n",
    "              filled=True,\n",
    "              impurity=True,\n",
    "              max_depth=3)\n",
    "plt.show()"
   ]
  },
  {
   "cell_type": "code",
   "execution_count": null,
   "id": "75927e39",
   "metadata": {},
   "outputs": [],
   "source": [
    "def mol_2_fp(mol):\n",
    "  fp = AllChem.GetMorganFingerprintAsBitVect(mol, 3, nBits=1024)\n",
    "  return fp"
   ]
  },
  {
   "cell_type": "code",
   "execution_count": null,
   "id": "d87fe6c8",
   "metadata": {},
   "outputs": [],
   "source": [
    "list_fp = df['mol'].apply(mol_2_fp)\n",
    "ecfp = np.vstack(list_fp)\n",
    "print(ecfp.shape)\n",
    "ecfp[:3]"
   ]
  },
  {
   "cell_type": "code",
   "execution_count": null,
   "id": "a7296e45",
   "metadata": {},
   "outputs": [],
   "source": [
    "X_train, X_test, y_train, y_test = train_test_split(ecfp, target, test_size=.2)\n",
    "X_train.shape, X_test.shape, y_train.shape, y_test.shape"
   ]
  },
  {
   "cell_type": "code",
   "execution_count": null,
   "id": "dc41bbaa",
   "metadata": {},
   "outputs": [],
   "source": [
    "# linear regression model\n",
    "\n",
    "lr = LinearRegression()\n",
    "lr.fit(X_train, y_train)\n",
    "y_pred = lr.predict(X_test)\n",
    "show_reg_result(y_test, y_pred, 0)"
   ]
  },
  {
   "cell_type": "code",
   "execution_count": null,
   "id": "f2e87b5d",
   "metadata": {},
   "outputs": [],
   "source": [
    "# Light GBM model\n",
    "\n",
    "from lightgbm import LGBMRegressor\n",
    "lgbmr = LGBMRegressor()\n",
    "lgbmr.fit(X_train, y_train)\n",
    "y_pred = lgbmr.predict(X_test)\n",
    "show_reg_result(y_test, y_pred,0)"
   ]
  },
  {
   "cell_type": "code",
   "execution_count": null,
   "id": "52b7f1a5",
   "metadata": {},
   "outputs": [],
   "source": [
    "# ploting with real and pred values\n",
    "\n",
    "lgbmr.fit(X_train, y_train)\n",
    "y_pred = lgbmr.predict(X_test)\n",
    "show_reg_result(y_test, y_pred)"
   ]
  }
 ],
 "metadata": {
  "language_info": {
   "name": "python"
  }
 },
 "nbformat": 4,
 "nbformat_minor": 5
}
